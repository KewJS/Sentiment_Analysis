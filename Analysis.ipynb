{
 "cells": [
  {
   "cell_type": "code",
   "execution_count": 1,
   "id": "183c0287",
   "metadata": {},
   "outputs": [],
   "source": [
    "import os\n",
    "import sys\n",
    "import inspect\n",
    "import random\n",
    "import pandas as pd\n",
    "import numpy as np\n",
    "from tqdm import trange\n",
    "from collections import OrderedDict, Counter\n",
    "from wordcloud import ImageColorGenerator, WordCloud, STOPWORDS\n",
    "from sklearn.feature_extraction.text import CountVectorizer, TfidfVectorizer\n",
    "\n",
    "import seaborn as sns\n",
    "sns.set_theme()\n",
    "import matplotlib.pyplot as plt\n",
    "\n",
    "import ipywidgets as widgets\n",
    "from IPython.display import display, Markdown, HTML, clear_output, display_html"
   ]
  },
  {
   "cell_type": "code",
   "execution_count": 2,
   "id": "e71808cf",
   "metadata": {},
   "outputs": [],
   "source": [
    "from src.preprocess import Analysis"
   ]
  },
  {
   "cell_type": "code",
   "execution_count": 3,
   "id": "8614be5f",
   "metadata": {},
   "outputs": [
    {
     "data": {
      "text/markdown": [
       "<h2>Scraped Book Reviews Understanding</h2>"
      ],
      "text/plain": [
       "<IPython.core.display.Markdown object>"
      ]
     },
     "metadata": {},
     "output_type": "display_data"
    },
    {
     "data": {
      "text/plain": [
       "[None, None, None, None]"
      ]
     },
     "execution_count": 3,
     "metadata": {},
     "output_type": "execute_result"
    }
   ],
   "source": [
    "display(Markdown(\"<h2>Scraped Book Reviews Understanding</h2>\"))\n",
    "loading_section       = [\"Load Data\"]\n",
    "sections              = [\"Data Overview\", \"EDA\"]\n",
    "conclusion_section    = [\"Summary\"]\n",
    "\n",
    "summary_sub_section   = [\"Project Summary\", \"Data Summary\"]\n",
    "features_sub_section  = [\"Features Analysis\", \"Word Cloud\"]\n",
    "\n",
    "accordions = OrderedDict()\n",
    "accordions[\"** Loading **\"] = widgets.Accordion(children=[widgets.Output() for section in loading_section])\n",
    "[accordions[\"** Loading **\"].set_title(i, section) for i, section in enumerate(loading_section)]\n",
    "\n",
    "for section in sections:\n",
    "    if section == \"Data Overview\":\n",
    "        accordions[section] = widgets.Accordion(children=[widgets.Output() for sub_section in summary_sub_section])\n",
    "        [accordions[section].set_title(i, sub_section) for i, sub_section in enumerate(summary_sub_section)]\n",
    "    else:\n",
    "        accordions[section] = widgets.Accordion(children=[widgets.Output() for sub_section in features_sub_section])\n",
    "        [accordions[section].set_title(i, sub_section) for i, sub_section in enumerate(features_sub_section)]\n",
    "        \n",
    "accordions[\"** Conclusion **\"] = widgets.Accordion(children=[widgets.Output() for section in conclusion_section])\n",
    "[accordions[\"** Conclusion **\"].set_title(i, section) for i, section in enumerate(conclusion_section)]\n",
    "        \n",
    "widget_fields = widgets.Tab(children=[accordions[t] for t in accordions])\n",
    "[widget_fields.set_title(i, sub) for i, sub in enumerate(accordions.keys())]"
   ]
  },
  {
   "cell_type": "code",
   "execution_count": 4,
   "id": "fa183cb6",
   "metadata": {},
   "outputs": [
    {
     "data": {
      "application/vnd.jupyter.widget-view+json": {
       "model_id": "ce918d9a04a64cae885be2abff5e5c23",
       "version_major": 2,
       "version_minor": 0
      },
      "text/plain": [
       "Tab(children=(Accordion(children=(Output(),), titles=('Load Data',)), Accordion(children=(Output(), Output()),…"
      ]
     },
     "execution_count": 4,
     "metadata": {},
     "output_type": "execute_result"
    }
   ],
   "source": [
    "widget_fields"
   ]
  },
  {
   "cell_type": "code",
   "execution_count": 5,
   "id": "acbd9237",
   "metadata": {},
   "outputs": [],
   "source": [
    "analysis = Analysis()"
   ]
  },
  {
   "cell_type": "code",
   "execution_count": 6,
   "id": "3c1cb43e",
   "metadata": {},
   "outputs": [],
   "source": [
    "%matplotlib agg\n",
    "\n",
    "with accordions[\"** Loading **\"].children[0]:\n",
    "    clear_output()\n",
    "    display(Markdown(\"<h2> Initiating data loading ... </h2>\"))\n",
    "    analysis.get_reviews_data()"
   ]
  },
  {
   "cell_type": "code",
   "execution_count": 7,
   "id": "7c6f0fa8",
   "metadata": {},
   "outputs": [],
   "source": [
    "section = \"Data Overview\"\n",
    "    \n",
    "with accordions[section].children[0]:\n",
    "    clear_output()\n",
    "    display(Markdown(\"<h2> Book Reviews Sentiment Analysis </h2>\"))\n",
    "    display(Markdown(r\"\"\"<p align=\"center\">\n",
    "                         <img width=\"1000\" height=\"400\" src=\"src/static/img/sentiments.jpg\"></p>\"\"\"))\n",
    "    sentiment_analysis_markdown = \"src/templates/sentiment_analysis.md\"\n",
    "    display(Markdown(sentiment_analysis_markdown))\n",
    "    \n",
    "    \n",
    "with accordions[section].children[1]:\n",
    "    clear_output()\n",
    "    display(Markdown(r\"<h2> Reviews Data Extracted </h2\"))    \n",
    "    display(Markdown(r\"<h4> Overview of Data Quantity </h4>\"))\n",
    "    display(analysis.grid_df_display([analysis.descriptive_data(analysis.data[\"reviews_abt\"]), analysis.data_type_analysis(analysis.data[\"reviews_abt\"])]))\n",
    "    \n",
    "    display(Markdown(r\"<h4> Understand Distribution Between Sentiments of Reviews </h4>\"))\n",
    "    rating_count_df = (analysis.data[\"reviews_abt\"][\"rating_encode\"]\n",
    "                       .value_counts()\n",
    "                       .reset_index()\n",
    "                       )\n",
    "    rating_count_df[\"count_pct\"] = (rating_count_df[\"count\"] / rating_count_df[\"count\"].sum())*100\n",
    "    display(analysis.vertical_bar_plot(df=rating_count_df, xvar=\"rating_encode\", yvar=\"count\"))\n",
    "    display(rating_count_df)"
   ]
  },
  {
   "cell_type": "code",
   "execution_count": 8,
   "id": "7a18712f",
   "metadata": {},
   "outputs": [],
   "source": [
    "section = \"EDA\"\n",
    "    \n",
    "with accordions[section].children[0]:\n",
    "    clear_output()\n",
    "    display(Markdown(\"<h2> Exploratory Data Analysis on Scraped Reviews Data </h2>\"))\n",
    "    display(Markdown(r\"<h4> 1. Disitribution of Reviews Length </h4>\"))\n",
    "    display(analysis.distribution_plot(df=analysis.data[\"reviews_abt\"], xvar=\"reviews_length\"))\n",
    "    \n",
    "    display(Markdown(r\"<h4> 2. Term Frequency Analysis </h4>\"))\n",
    "    most_common_df = analysis.term_frequency_analysis(df=analysis.data[\"reviews_abt\"], reviews_col=\"reviews\", top_sample_size=20)\n",
    "    display(analysis.horizontal_bar_plot(df=most_common_df, xvar=\"frequency\", yvar=\"words\"))\n",
    "    \n",
    "    display(Markdown(r\"<h4> 3. Most Occuring Bi-Gram Words </h4>\"))\n",
    "    bi_ngram_freq = analysis.create_n_grams(df=analysis.data[\"reviews_abt\"][analysis.data[\"reviews_abt\"][\"rating\"].notnull()].sample(5000), \n",
    "                                            reviews_col=\"reviews\", \n",
    "                                            ngram_range=(2,2))\n",
    "    display(analysis.horizontal_bar_plot(df=bi_ngram_freq[:20], xvar=\"frequency\", yvar=\"ngram\"))\n",
    "    \n",
    "    display(Markdown(r\"<h4> 3. Most Occuring Tri-Gram Words </h4>\"))\n",
    "    tri_ngram_freq = analysis.create_n_grams(df=analysis.data[\"reviews_abt\"][analysis.data[\"reviews_abt\"][\"rating\"].notnull()].sample(5000), \n",
    "                                             reviews_col=\"reviews\", \n",
    "                                             ngram_range=(3,3))\n",
    "    display(analysis.horizontal_bar_plot(df=tri_ngram_freq[:20], xvar=\"frequency\", yvar=\"ngram\"))\n",
    "    \n",
    "    \n",
    "with accordions[section].children[1]:\n",
    "    clear_output()\n",
    "    display(Markdown(r\"<h2> Words Cloud </h2\"))\n",
    "    display(Markdown(r\"<h4> Seeing the Most Common Words </h4>\"))\n",
    "    text = \" \".join(review for review in analysis.data[\"reviews_abt\"][analysis.data[\"reviews_abt\"][\"rating\"].notnull()][\"reviews\"].astype(str))\n",
    "    display(analysis.wordcloud_plot(text))"
   ]
  },
  {
   "cell_type": "code",
   "execution_count": null,
   "id": "14929777",
   "metadata": {},
   "outputs": [],
   "source": []
  }
 ],
 "metadata": {
  "kernelspec": {
   "display_name": "sentiment_venv",
   "language": "python",
   "name": "python3"
  },
  "language_info": {
   "codemirror_mode": {
    "name": "ipython",
    "version": 3
   },
   "file_extension": ".py",
   "mimetype": "text/x-python",
   "name": "python",
   "nbconvert_exporter": "python",
   "pygments_lexer": "ipython3",
   "version": "3.10.8"
  }
 },
 "nbformat": 4,
 "nbformat_minor": 5
}
