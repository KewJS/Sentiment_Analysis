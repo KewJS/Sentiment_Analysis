{
 "cells": [
  {
   "cell_type": "code",
   "execution_count": 1,
   "metadata": {},
   "outputs": [],
   "source": [
    "import re\n",
    "import os\n",
    "import time\n",
    "import string\n",
    "import pathlib\n",
    "import requests\n",
    "import pickle\n",
    "import numpy as np\n",
    "import pandas as pd\n",
    "\n",
    "import warnings\n",
    "warnings.filterwarnings(\"ignore\")\n",
    "\n",
    "from src.spider.crawler import Crawler"
   ]
  },
  {
   "cell_type": "code",
   "execution_count": 2,
   "metadata": {},
   "outputs": [],
   "source": [
    "crawler = Crawler()"
   ]
  },
  {
   "cell_type": "code",
   "execution_count": 4,
   "metadata": {
    "scrolled": true
   },
   "outputs": [
    {
     "name": "stdout",
     "output_type": "stream",
     "text": [
      "Initiating Reviews Scraping from Web Page: https://www.goodreads.com/book/show\n",
      "  extracting data from https://www.goodreads.com/book/show/14500 at page 14500...\n",
      "  extracting data from https://www.goodreads.com/book/show/14501 at page 14501...\n",
      "  extracting data from https://www.goodreads.com/book/show/14502 at page 14502...\n",
      "  extracting data from https://www.goodreads.com/book/show/14503 at page 14503...\n",
      "  extracting data from https://www.goodreads.com/book/show/14504 at page 14504...\n",
      "  extracting data from https://www.goodreads.com/book/show/14505 at page 14505...\n",
      "  extracting data from https://www.goodreads.com/book/show/14506 at page 14506...\n",
      "  extracting data from https://www.goodreads.com/book/show/14507 at page 14507...\n",
      "  extracting data from https://www.goodreads.com/book/show/14508 at page 14508...\n",
      "  extracting data from https://www.goodreads.com/book/show/14509 at page 14509...\n",
      "  extracting data from https://www.goodreads.com/book/show/14510 at page 14510...\n",
      "  extracting data from https://www.goodreads.com/book/show/14511 at page 14511...\n",
      "  extracting data from https://www.goodreads.com/book/show/14512 at page 14512...\n",
      "  extracting data from https://www.goodreads.com/book/show/14513 at page 14513...\n",
      "  extracting data from https://www.goodreads.com/book/show/14514 at page 14514...\n",
      "  extracting data from https://www.goodreads.com/book/show/14515 at page 14515...\n",
      "  extracting data from https://www.goodreads.com/book/show/14516 at page 14516...\n",
      "  extracting data from https://www.goodreads.com/book/show/14517 at page 14517...\n",
      "  extracting data from https://www.goodreads.com/book/show/14518 at page 14518...\n",
      "  extracting data from https://www.goodreads.com/book/show/14519 at page 14519...\n",
      "  extracting data from https://www.goodreads.com/book/show/14520 at page 14520...\n",
      "  extracting data from https://www.goodreads.com/book/show/14521 at page 14521...\n",
      "  extracting data from https://www.goodreads.com/book/show/14522 at page 14522...\n",
      "  extracting data from https://www.goodreads.com/book/show/14523 at page 14523...\n",
      "  extracting data from https://www.goodreads.com/book/show/14524 at page 14524...\n",
      "  extracting data from https://www.goodreads.com/book/show/14525 at page 14525...\n",
      "  extracting data from https://www.goodreads.com/book/show/14526 at page 14526...\n",
      "  extracting data from https://www.goodreads.com/book/show/14527 at page 14527...\n",
      "  extracting data from https://www.goodreads.com/book/show/14528 at page 14528...\n",
      "  extracting data from https://www.goodreads.com/book/show/14529 at page 14529...\n",
      "  extracting data from https://www.goodreads.com/book/show/14530 at page 14530...\n",
      "  extracting data from https://www.goodreads.com/book/show/14531 at page 14531...\n",
      "  extracting data from https://www.goodreads.com/book/show/14532 at page 14532...\n",
      "  extracting data from https://www.goodreads.com/book/show/14533 at page 14533...\n",
      "  extracting data from https://www.goodreads.com/book/show/14534 at page 14534...\n",
      "  extracting data from https://www.goodreads.com/book/show/14535 at page 14535...\n",
      "  extracting data from https://www.goodreads.com/book/show/14536 at page 14536...\n",
      "  extracting data from https://www.goodreads.com/book/show/14537 at page 14537...\n",
      "  extracting data from https://www.goodreads.com/book/show/14538 at page 14538...\n",
      "  extracting data from https://www.goodreads.com/book/show/14539 at page 14539...\n",
      "  extracting data from https://www.goodreads.com/book/show/14540 at page 14540...\n",
      "  extracting data from https://www.goodreads.com/book/show/14541 at page 14541...\n",
      "  extracting data from https://www.goodreads.com/book/show/14542 at page 14542...\n",
      "  extracting data from https://www.goodreads.com/book/show/14543 at page 14543...\n",
      "  extracting data from https://www.goodreads.com/book/show/14544 at page 14544...\n",
      "  extracting data from https://www.goodreads.com/book/show/14545 at page 14545...\n",
      "  extracting data from https://www.goodreads.com/book/show/14546 at page 14546...\n",
      "  extracting data from https://www.goodreads.com/book/show/14547 at page 14547...\n",
      "  extracting data from https://www.goodreads.com/book/show/14548 at page 14548...\n",
      "  extracting data from https://www.goodreads.com/book/show/14549 at page 14549...\n",
      "  extracting data from https://www.goodreads.com/book/show/14550 at page 14550...\n",
      "  extracting data from https://www.goodreads.com/book/show/14551 at page 14551...\n",
      "  extracting data from https://www.goodreads.com/book/show/14552 at page 14552...\n",
      "  extracting data from https://www.goodreads.com/book/show/14553 at page 14553...\n",
      "  extracting data from https://www.goodreads.com/book/show/14554 at page 14554...\n",
      "  extracting data from https://www.goodreads.com/book/show/14555 at page 14555...\n",
      "  extracting data from https://www.goodreads.com/book/show/14556 at page 14556...\n",
      "  extracting data from https://www.goodreads.com/book/show/14557 at page 14557...\n",
      "  extracting data from https://www.goodreads.com/book/show/14558 at page 14558...\n",
      "  extracting data from https://www.goodreads.com/book/show/14559 at page 14559...\n",
      "  extracting data from https://www.goodreads.com/book/show/14560 at page 14560...\n",
      "  extracting data from https://www.goodreads.com/book/show/14561 at page 14561...\n",
      "  extracting data from https://www.goodreads.com/book/show/14562 at page 14562...\n",
      "  extracting data from https://www.goodreads.com/book/show/14563 at page 14563...\n",
      "  extracting data from https://www.goodreads.com/book/show/14564 at page 14564...\n",
      "  extracting data from https://www.goodreads.com/book/show/14565 at page 14565...\n",
      "  extracting data from https://www.goodreads.com/book/show/14566 at page 14566...\n",
      "  extracting data from https://www.goodreads.com/book/show/14567 at page 14567...\n",
      "  extracting data from https://www.goodreads.com/book/show/14568 at page 14568...\n",
      "  extracting data from https://www.goodreads.com/book/show/14569 at page 14569...\n",
      "  extracting data from https://www.goodreads.com/book/show/14570 at page 14570...\n",
      "  extracting data from https://www.goodreads.com/book/show/14571 at page 14571...\n",
      "  extracting data from https://www.goodreads.com/book/show/14572 at page 14572...\n",
      "  extracting data from https://www.goodreads.com/book/show/14573 at page 14573...\n",
      "  extracting data from https://www.goodreads.com/book/show/14574 at page 14574...\n",
      "   https://www.goodreads.com/book/show/14575 at page 14575 has no data, skipping...\n",
      "  extracting data from https://www.goodreads.com/book/show/14576 at page 14576...\n",
      "  extracting data from https://www.goodreads.com/book/show/14577 at page 14577...\n",
      "  extracting data from https://www.goodreads.com/book/show/14578 at page 14578...\n",
      "  extracting data from https://www.goodreads.com/book/show/14579 at page 14579...\n",
      "  extracting data from https://www.goodreads.com/book/show/14580 at page 14580...\n",
      "  extracting data from https://www.goodreads.com/book/show/14581 at page 14581...\n",
      "  extracting data from https://www.goodreads.com/book/show/14582 at page 14582...\n",
      "  extracting data from https://www.goodreads.com/book/show/14583 at page 14583...\n",
      "  extracting data from https://www.goodreads.com/book/show/14584 at page 14584...\n",
      "  extracting data from https://www.goodreads.com/book/show/14585 at page 14585...\n",
      "  extracting data from https://www.goodreads.com/book/show/14586 at page 14586...\n",
      "  extracting data from https://www.goodreads.com/book/show/14587 at page 14587...\n"
     ]
    }
   ],
   "source": [
    "crawler.web_spiders(domain=\"goodreads\")"
   ]
  },
  {
   "cell_type": "code",
   "execution_count": null,
   "metadata": {},
   "outputs": [],
   "source": []
  }
 ],
 "metadata": {
  "kernelspec": {
   "display_name": "Python 3 (ipykernel)",
   "language": "python",
   "name": "python3"
  },
  "language_info": {
   "codemirror_mode": {
    "name": "ipython",
    "version": 3
   },
   "file_extension": ".py",
   "mimetype": "text/x-python",
   "name": "python",
   "nbconvert_exporter": "python",
   "pygments_lexer": "ipython3",
   "version": "3.10.8"
  },
  "vscode": {
   "interpreter": {
    "hash": "ac49073d0c6dfb91e7e597e523483017e9c0cf82e5ab92ee6ad3a9e5a794cb4e"
   }
  }
 },
 "nbformat": 4,
 "nbformat_minor": 2
}
